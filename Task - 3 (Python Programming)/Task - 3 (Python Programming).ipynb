{
 "cells": [
  {
   "cell_type": "code",
   "execution_count": 1,
   "id": "round-stadium",
   "metadata": {},
   "outputs": [
    {
     "name": "stdout",
     "output_type": "stream",
     "text": [
      "complex number is: (1+3j)\n",
      "phase of complex number z is : 1.2490457723982544\n",
      "absolute value complex number z is : 3.1622776601683795\n"
     ]
    }
   ],
   "source": [
    "#Question-1 Polar coordinates\n",
    "\n",
    "# Given a complex z . Your task is to convert it to polar coordinates\n",
    "import cmath\n",
    "\n",
    "x = 1\n",
    "y = 3\n",
    "z = complex(x,y)\n",
    "\n",
    "print(\"complex number is:\",z)\n",
    "print('phase of complex number z is :',cmath.phase(z))\n",
    "print('absolute value complex number z is :',abs(complex(z)))"
   ]
  },
  {
   "cell_type": "code",
   "execution_count": 2,
   "id": "technical-palestine",
   "metadata": {},
   "outputs": [
    {
     "name": "stdout",
     "output_type": "stream",
     "text": [
      "5\n",
      "6\n",
      "40°\n"
     ]
    }
   ],
   "source": [
    "#Question-2 Find Angle MBC\n",
    "\n",
    "from math import atan2\n",
    "from math import degrees\n",
    "\n",
    "ab = float(input())\n",
    "bc = float(input())\n",
    "\n",
    "print(str(round(degrees(atan2(ab,bc)))) + '°')"
   ]
  },
  {
   "cell_type": "code",
   "execution_count": 3,
   "id": "comparative-neutral",
   "metadata": {},
   "outputs": [
    {
     "name": "stdout",
     "output_type": "stream",
     "text": [
      "8\n",
      "1\n",
      "121\n",
      "12321\n",
      "1234321\n",
      "123454321\n",
      "12345654321\n",
      "1234567654321\n",
      "123456787654321\n"
     ]
    }
   ],
   "source": [
    "#Question-3\n",
    "\n",
    "#You are given a positive integer N.\n",
    "#Your task is to print a palindromic triangle of size N.\n",
    "\n",
    "for i in range(1,int(input())+1):\n",
    "     print((10**i//9)**2)"
   ]
  },
  {
   "cell_type": "code",
   "execution_count": 4,
   "id": "critical-mixture",
   "metadata": {},
   "outputs": [
    {
     "name": "stdout",
     "output_type": "stream",
     "text": [
      "6\n",
      "1\n",
      "22\n",
      "333\n",
      "4444\n",
      "55555\n",
      "666666\n"
     ]
    }
   ],
   "source": [
    "# Question-4 -- Triangle Quest\n",
    "\n",
    "for i in range(1,int(input())+1):\n",
    "     print((10**i//9)*i)"
   ]
  },
  {
   "cell_type": "code",
   "execution_count": 6,
   "id": "talented-acting",
   "metadata": {},
   "outputs": [
    {
     "name": "stdout",
     "output_type": "stream",
     "text": [
      "integer division: 0\n",
      "modulo operator: 6\n",
      "divmod of a and b: (0, 6)\n"
     ]
    }
   ],
   "source": [
    "# Question-5 -- Mod Divmod\n",
    "\n",
    "#Read in two integers, a and b, and print three lines.\n",
    "#The first line is the integer division a//b.\n",
    "#The second line is the result of the modulo operator: a%b.\n",
    "#The third line prints the divmod of a and b.\n",
    "\n",
    "a = 6\n",
    "b = 9\n",
    "\n",
    "print('integer division:',a//b)\n",
    "print('modulo operator:',a%b)\n",
    "print(\"divmod of a and b:\",divmod(a,b))"
   ]
  },
  {
   "cell_type": "code",
   "execution_count": 7,
   "id": "earlier-hundred",
   "metadata": {},
   "outputs": [
    {
     "name": "stdout",
     "output_type": "stream",
     "text": [
      "32\n",
      "2\n"
     ]
    }
   ],
   "source": [
    "# Question-6 Mod Pow\n",
    "\n",
    "#You are given three integers: a, b, and m. Print two lines.\n",
    "#On the first line, print the result of pow(a,b). On the second line, print the result of pow(a,b,m). \n",
    "\n",
    "a=2\n",
    "b=5\n",
    "m=3\n",
    "\n",
    "print(pow(a,b))\n",
    "print(pow(a,b,m))"
   ]
  },
  {
   "cell_type": "code",
   "execution_count": 8,
   "id": "confidential-poster",
   "metadata": {
    "scrolled": true
   },
   "outputs": [
    {
     "name": "stdout",
     "output_type": "stream",
     "text": [
      "4710194409608608369201743232\n"
     ]
    }
   ],
   "source": [
    "# Question-7\n",
    "\n",
    "# Read four numbers, a, b, c, and d, and print the result of a^b and c^d.\n",
    "\n",
    "a = 9\n",
    "b = 29\n",
    "c = 7\n",
    "d = 27\n",
    "\n",
    "print(pow(a,b)+pow(c,d))"
   ]
  },
  {
   "cell_type": "code",
   "execution_count": null,
   "id": "loved-wells",
   "metadata": {},
   "outputs": [],
   "source": []
  },
  {
   "cell_type": "code",
   "execution_count": null,
   "id": "minus-murray",
   "metadata": {},
   "outputs": [],
   "source": []
  }
 ],
 "metadata": {
  "kernelspec": {
   "display_name": "Python 3",
   "language": "python",
   "name": "python3"
  },
  "language_info": {
   "codemirror_mode": {
    "name": "ipython",
    "version": 3
   },
   "file_extension": ".py",
   "mimetype": "text/x-python",
   "name": "python",
   "nbconvert_exporter": "python",
   "pygments_lexer": "ipython3",
   "version": "3.8.5"
  }
 },
 "nbformat": 4,
 "nbformat_minor": 5
}
