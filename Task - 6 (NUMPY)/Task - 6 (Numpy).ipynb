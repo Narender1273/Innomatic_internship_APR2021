{
 "cells": [
  {
   "cell_type": "code",
   "execution_count": 13,
   "id": "growing-asset",
   "metadata": {},
   "outputs": [
    {
     "data": {
      "text/plain": [
       "array([6., 9., 4., 3., 2., 1.])"
      ]
     },
     "execution_count": 13,
     "metadata": {},
     "output_type": "execute_result"
    }
   ],
   "source": [
    "# Question-1  ARRAYS\n",
    "\n",
    "import numpy as np\n",
    "\n",
    "arr = np.array([1,2,3,4,9,6],float)\n",
    "arr[::-1]"
   ]
  },
  {
   "cell_type": "code",
   "execution_count": 29,
   "id": "silent-debate",
   "metadata": {},
   "outputs": [
    {
     "name": "stdout",
     "output_type": "stream",
     "text": [
      "1 2 3 4 5 6 7 8 9\n",
      "[[1 2 3]\n",
      " [4 5 6]\n",
      " [7 8 9]]\n"
     ]
    }
   ],
   "source": [
    "# Question-2 numpy array shape\n",
    "\n",
    "print(np.array(input().split(), int).reshape(3,3))"
   ]
  },
  {
   "cell_type": "code",
   "execution_count": 53,
   "id": "treated-retreat",
   "metadata": {},
   "outputs": [
    {
     "name": "stdout",
     "output_type": "stream",
     "text": [
      "give any 4 numbers in input with space: 1 2 3 4\n",
      "give number of rows:2 \n",
      "give number of columns:2\n",
      "[[1 3]\n",
      " [2 4]]\n",
      "[1 2 3 4]\n"
     ]
    }
   ],
   "source": [
    "# Question-3 transpose matrix and flatten matrix\n",
    "\n",
    "arr = (np.array(input(\"give any 4 numbers in input with space:\").split(), int)).reshape(int(input(\"give number of rows:\")),int(input(\"give number of columns:\")))\n",
    "print(np.transpose(arr))\n",
    "print(arr.flatten())"
   ]
  },
  {
   "cell_type": "code",
   "execution_count": 3,
   "id": "brilliant-sudan",
   "metadata": {},
   "outputs": [
    {
     "name": "stdout",
     "output_type": "stream",
     "text": [
      "1 2 3\n",
      "2 3 \n",
      " 3 5 \n",
      " 4 5\n",
      "[[2 3]\n",
      " [3 5]\n",
      " [4 5]]\n"
     ]
    }
   ],
   "source": [
    "# Question- 4 Concatenate\n",
    "\n",
    "import numpy as np\n",
    "n, m = map(int,input().split())\n",
    "arrA = np.array([input().split() for i in range(n)],int)\n",
    "arrB = np.array([input().split() for i in range(m)],int)\n",
    "print(np.concatenate((arrA, arrB), axis = 0))"
   ]
  },
  {
   "cell_type": "code",
   "execution_count": 16,
   "id": "exciting-democrat",
   "metadata": {},
   "outputs": [
    {
     "name": "stdout",
     "output_type": "stream",
     "text": [
      "[[[0 0 0]\n",
      "  [0 0 0]\n",
      "  [0 0 0]]\n",
      "\n",
      " [[0 0 0]\n",
      "  [0 0 0]\n",
      "  [0 0 0]]\n",
      "\n",
      " [[0 0 0]\n",
      "  [0 0 0]\n",
      "  [0 0 0]]]\n",
      "[[[1 1 1]\n",
      "  [1 1 1]\n",
      "  [1 1 1]]\n",
      "\n",
      " [[1 1 1]\n",
      "  [1 1 1]\n",
      "  [1 1 1]]\n",
      "\n",
      " [[1 1 1]\n",
      "  [1 1 1]\n",
      "  [1 1 1]]]\n"
     ]
    }
   ],
   "source": [
    "#Question-5 Zeros and Ones\n",
    "\n",
    "print(np.zeros((3,3,3), dtype=int)) \n",
    "print(np.ones((3,3,3), dtype=int))"
   ]
  },
  {
   "cell_type": "code",
   "execution_count": 18,
   "id": "affected-compatibility",
   "metadata": {},
   "outputs": [
    {
     "data": {
      "text/plain": [
       "array([[1., 0., 0.],\n",
       "       [0., 1., 0.],\n",
       "       [0., 0., 1.]])"
      ]
     },
     "execution_count": 18,
     "metadata": {},
     "output_type": "execute_result"
    }
   ],
   "source": [
    "# Question-6 Identity matrix\n",
    "\n",
    "np.eye(3,3)"
   ]
  },
  {
   "cell_type": "code",
   "execution_count": 4,
   "id": "devoted-philosophy",
   "metadata": {},
   "outputs": [
    {
     "name": "stdout",
     "output_type": "stream",
     "text": [
      "give number of rows:1\n",
      "give number of columns:3\n",
      "give input of some numbers with space separated:1 2 3\n",
      "give input of some numbers with space separated:4 5 6 \n",
      "addition of arrays: [[5 7 9]]\n",
      "subtraction of arrays: [[-3 -3 -3]]\n",
      "division of arrays: [[0 0 0]]\n",
      "multiplication of arrays: [[ 4 10 18]]\n",
      "power of arrays: [[  1  32 729]]\n",
      "mod of arrays [[1 2 3]]\n"
     ]
    }
   ],
   "source": [
    "# Question-7 Array Mathematics\n",
    "\n",
    "\n",
    "import numpy as np\n",
    "\n",
    "n = int(input(\"give number of rows:\"))\n",
    "m = int(input(\"give number of columns:\"))\n",
    "a = np.array(input(\"give input of some numbers with space separated:\").split(),int)\n",
    "b = np.array(input(\"give input of some numbers with space separated:\").split(),int)\n",
    "\n",
    "print(\"addition of arrays:\",(np.array(a+b).reshape(n,m)))\n",
    "print(\"subtraction of arrays:\",(np.array(a-b).reshape(n,m)))\n",
    "print(\"division of arrays:\",(np.array(a//b).reshape(n,m)))\n",
    "print(\"multiplication of arrays:\",(np.array(a*b).reshape(n,m)))\n",
    "print(\"power of arrays:\",(np.array(a**b).reshape(n,m)))\n",
    "print(\"mod of arrays\",(np.array(a%b).reshape(n,m)))"
   ]
  },
  {
   "cell_type": "code",
   "execution_count": 11,
   "id": "optimum-reunion",
   "metadata": {},
   "outputs": [
    {
     "name": "stdout",
     "output_type": "stream",
     "text": [
      "1.1 2.2 3.3 4.4 5.5 6.6 7.7 8.8 9.9\n",
      "[ 2.  3.  4.  5.  6.  7.  8.  9. 10.]\n",
      "[1. 2. 3. 4. 5. 6. 7. 8. 9.]\n",
      "[ 1.  2.  3.  4.  6.  7.  8.  9. 10.]\n"
     ]
    }
   ],
   "source": [
    "# Question-8 Ceil, FLoor, Rint of array elements\n",
    "\n",
    "a = np.array(input().split(), float)\n",
    "\n",
    "print(np.ceil(a))\n",
    "print(np.floor(a))\n",
    "print(np.rint(a))"
   ]
  },
  {
   "cell_type": "code",
   "execution_count": 27,
   "id": "bottom-still",
   "metadata": {},
   "outputs": [
    {
     "name": "stdout",
     "output_type": "stream",
     "text": [
      "2 \n",
      "2 \n",
      "1 2 3 4\n",
      "sum of array: [4 6]\n",
      "prod of sum of array: 24\n"
     ]
    }
   ],
   "source": [
    "# Question-9 sum and product of arrays\n",
    "\n",
    "n = int(input())\n",
    "m = int(input())\n",
    "\n",
    "s = np.array(input().split(), int).reshape(n,m)\n",
    "d = np.sum(s,axis=0)\n",
    "print(\"sum of array:\",d)\n",
    "\n",
    "g = np.prod(d, axis=0)\n",
    "print(\"prod of sum of array:\",g)"
   ]
  },
  {
   "cell_type": "code",
   "execution_count": 46,
   "id": "acquired-vatican",
   "metadata": {},
   "outputs": [
    {
     "name": "stdout",
     "output_type": "stream",
     "text": [
      "no. of rows:4\n",
      "no.columns:2\n",
      "85 65 42 75 12 43 58 4\n",
      "[[85 65]\n",
      " [42 75]\n",
      " [12 43]\n",
      " [58  4]]\n",
      "min of arrary: [12  4]\n",
      "max of array: [85 75]\n"
     ]
    }
   ],
   "source": [
    "# Question-10 min and max of arrays\n",
    "\n",
    "n = int(input(\"no. of rows:\"))\n",
    "m = int(input(\"no.columns:\"))\n",
    "\n",
    "s = np.array(input().split(), int).reshape(n,m)\n",
    "print(s)\n",
    "print(\"min of arrary:\",np.min(s, axis=0))\n",
    "print(\"max of array:\",np.max(s, axis=0))"
   ]
  },
  {
   "cell_type": "code",
   "execution_count": 53,
   "id": "afraid-membrane",
   "metadata": {},
   "outputs": [
    {
     "name": "stdout",
     "output_type": "stream",
     "text": [
      "2\n",
      "1 2 3 4\n",
      "s matrix: [[1 2]\n",
      " [3 4]]\n",
      "1 2 3 4\n",
      "b matrix: [[1 2]\n",
      " [3 4]]\n",
      "dot product: [[ 7 10]\n",
      " [15 22]]\n"
     ]
    }
   ],
   "source": [
    "# Question-11 dot product\n",
    "\n",
    "n = int(input())\n",
    "\n",
    "a = np.array(input().split(), int).reshape(n,n)\n",
    "print(\"s matrix:\",a)\n",
    "\n",
    "b = np.array(input().split(), int).reshape(n,n)\n",
    "print(\"b matrix:\",b)\n",
    "\n",
    "print(\"dot product:\",np.dot(a,b))"
   ]
  },
  {
   "cell_type": "code",
   "execution_count": 55,
   "id": "selected-attachment",
   "metadata": {},
   "outputs": [
    {
     "name": "stdout",
     "output_type": "stream",
     "text": [
      "no. of rows:2\n",
      "no.columns:2\n",
      "give numbers of given matrix size:1 2 3 4\n",
      "[[1 2]\n",
      " [3 4]]\n",
      "mean of arrary: [1.5 3.5]\n",
      "var of array: [1. 1.]\n",
      "std of array: 1.118033988749895\n"
     ]
    }
   ],
   "source": [
    "# Question-12 mean, variance, standard deviation\n",
    "\n",
    "n = int(input(\"no. of rows:\"))\n",
    "m = int(input(\"no.columns:\"))\n",
    "\n",
    "s = np.array(input(\"give numbers of given matrix size:\").split(), int).reshape(n,m)\n",
    "print(s)\n",
    "print(\"mean of arrary:\",np.mean(s, axis=1))\n",
    "print(\"var of array:\",np.var(s, axis=0))\n",
    "print(\"std of array:\",np.std(s, axis=None))"
   ]
  },
  {
   "cell_type": "code",
   "execution_count": 63,
   "id": "piano-warning",
   "metadata": {},
   "outputs": [
    {
     "name": "stdout",
     "output_type": "stream",
     "text": [
      "0 1\n",
      "2 3\n",
      "[[3]]\n",
      "[[0 0]\n",
      " [2 3]]\n"
     ]
    }
   ],
   "source": [
    "# Question-13 inner and outer\n",
    "\n",
    "a = np.array(input().split(),int).reshape(1,2)\n",
    "b = np.array(input().split(),int).reshape(1,2)\n",
    "\n",
    "print(np.inner(a,b))\n",
    "print(np.outer(a,b))"
   ]
  },
  {
   "cell_type": "code",
   "execution_count": 78,
   "id": "mechanical-glance",
   "metadata": {},
   "outputs": [
    {
     "name": "stdout",
     "output_type": "stream",
     "text": [
      "1.1 2 3\n",
      "0\n",
      "3.0\n"
     ]
    }
   ],
   "source": [
    "# Question-14 polynomial\n",
    "\n",
    "print (np.polyval(list(map(float,input().split())), float(input())))"
   ]
  },
  {
   "cell_type": "code",
   "execution_count": 92,
   "id": "twenty-pierre",
   "metadata": {},
   "outputs": [
    {
     "name": "stdout",
     "output_type": "stream",
     "text": [
      "no. of rows and columns:2\n",
      "give numbers of given matrix size:1.1 1.1 1.1 1.1\n",
      "[[1.1 1.1]\n",
      " [1.1 1.1]]\n",
      "det of arrary: 0.0\n"
     ]
    }
   ],
   "source": [
    "# Question-15 Determinant\n",
    "\n",
    "n = int(input(\"no. of rows and columns:\"))\n",
    "\n",
    "s = np.array(input(\"give numbers of given matrix size:\").split(), float).reshape(n,n)\n",
    "print(s)\n",
    "print(\"det of arrary:\",np.linalg.det(s))"
   ]
  },
  {
   "cell_type": "code",
   "execution_count": null,
   "id": "ahead-budget",
   "metadata": {},
   "outputs": [],
   "source": []
  },
  {
   "cell_type": "code",
   "execution_count": null,
   "id": "atmospheric-creek",
   "metadata": {},
   "outputs": [],
   "source": []
  }
 ],
 "metadata": {
  "kernelspec": {
   "display_name": "Python 3",
   "language": "python",
   "name": "python3"
  },
  "language_info": {
   "codemirror_mode": {
    "name": "ipython",
    "version": 3
   },
   "file_extension": ".py",
   "mimetype": "text/x-python",
   "name": "python",
   "nbconvert_exporter": "python",
   "pygments_lexer": "ipython3",
   "version": "3.8.5"
  }
 },
 "nbformat": 4,
 "nbformat_minor": 5
}
