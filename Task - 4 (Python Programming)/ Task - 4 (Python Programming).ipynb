{
 "cells": [
  {
   "cell_type": "code",
   "execution_count": 1,
   "id": "intensive-reward",
   "metadata": {},
   "outputs": [
    {
     "data": {
      "text/plain": [
       "'iNNOmatics internSHIP pROGRAM'"
      ]
     },
     "execution_count": 1,
     "metadata": {},
     "output_type": "execute_result"
    }
   ],
   "source": [
    "#Question-1  Make lower case letters into upper case and vice versa\n",
    "\n",
    "string = 'InnoMATICS INTERNship Program'\n",
    "\n",
    "string.swapcase()"
   ]
  },
  {
   "cell_type": "code",
   "execution_count": 2,
   "id": "technical-purse",
   "metadata": {},
   "outputs": [
    {
     "name": "stdout",
     "output_type": "stream",
     "text": [
      "split string: ['InnoMATICS', 'INTERNship', 'Program']\n",
      "join string '-': InnoMATICS-INTERNship-Program\n"
     ]
    }
   ],
   "source": [
    "#Question-2 split and join the string \n",
    "\n",
    "f=string.split()\n",
    "print(\"split string:\",f)\n",
    "s=\"-\".join(f)\n",
    "print(\"join string '-':\",s)"
   ]
  },
  {
   "cell_type": "code",
   "execution_count": 3,
   "id": "controversial-brother",
   "metadata": {},
   "outputs": [
    {
     "name": "stdout",
     "output_type": "stream",
     "text": [
      "Hello NarenderAnnam! You just delved into python.\n"
     ]
    }
   ],
   "source": [
    "#Question-3 \n",
    "\n",
    "#Complete the print_full_name function in the editor below.\n",
    "\n",
    "#print_full_name has the following parameters:\n",
    "#string first: the first name\n",
    "#string last: the last name\n",
    "\n",
    "\n",
    "firstname = 'Narender'\n",
    "lastname = 'Annam'\n",
    "\n",
    "print(\"Hello \"+ firstname + lastname+\"! You just delved into python.\")"
   ]
  },
  {
   "cell_type": "code",
   "execution_count": 4,
   "id": "parallel-cache",
   "metadata": {},
   "outputs": [
    {
     "name": "stdout",
     "output_type": "stream",
     "text": [
      "abrackdabra\n"
     ]
    }
   ],
   "source": [
    "#Question-4\n",
    "\n",
    "string = \"abracadabra\" \n",
    "\n",
    "print(string[:5]+\"k\"+string[6:])"
   ]
  },
  {
   "cell_type": "code",
   "execution_count": 5,
   "id": "opposed-blanket",
   "metadata": {},
   "outputs": [
    {
     "data": {
      "text/plain": [
       "'Python Programming'"
      ]
     },
     "execution_count": 5,
     "metadata": {},
     "output_type": "execute_result"
    }
   ],
   "source": [
    "#Question-5 capitalise a string\n",
    "\n",
    "#You are asked to ensure that the first and last names of people begin with a capital letter in their passports.\n",
    "#For example, alison heck should be capitalised correctly as Alison Heck.\n",
    "\n",
    "strng = 'python programming'\n",
    "\n",
    "strng.title()"
   ]
  },
  {
   "cell_type": "code",
   "execution_count": 8,
   "id": "quarterly-average",
   "metadata": {},
   "outputs": [
    {
     "name": "stdout",
     "output_type": "stream",
     "text": [
      "ABCDCDC\n",
      "CDC\n",
      "2\n"
     ]
    }
   ],
   "source": [
    "#Question-6\n",
    "\n",
    "#the user enters a string and a substring. You have to print the number of times that the substring occurs in the given string.\n",
    "#String traversal will take place from left to right, not from right to left.\n",
    "\n",
    "strng = str(input())\n",
    "sub_strng = str(input())\n",
    "\n",
    "count = 0\n",
    "for i in range(len(strng) - len(sub_strng) + 1):\n",
    "    if strng[i:i+len(sub_strng)] == sub_strng:\n",
    "        count += 1\n",
    "print(count)"
   ]
  },
  {
   "cell_type": "code",
   "execution_count": 9,
   "id": "imperial-sauce",
   "metadata": {},
   "outputs": [
    {
     "name": "stdout",
     "output_type": "stream",
     "text": [
      "True\n",
      "True\n",
      "True\n",
      "True\n",
      "False\n"
     ]
    }
   ],
   "source": [
    "#Question-7\n",
    "\n",
    "#You are given a string .\n",
    "#Your task is to find out if the string contains: alphanumeric characters, alphabetical characters, digits, lowercase and uppercase characters.\n",
    "\n",
    "s = 'abcd'\n",
    "s1 = '123'\n",
    "\n",
    "print(s.islower())\n",
    "print(s.isalpha())\n",
    "print(s.isalnum())\n",
    "print(s1.isdigit())\n",
    "print(s.isupper())"
   ]
  },
  {
   "cell_type": "code",
   "execution_count": 10,
   "id": "streaming-lotus",
   "metadata": {},
   "outputs": [
    {
     "name": "stdout",
     "output_type": "stream",
     "text": [
      "7\n",
      "      H      \n",
      "     HHH     \n",
      "    HHHHH    \n",
      "   HHHHHHH   \n",
      "  HHHHHHHHH  \n",
      " HHHHHHHHHHH \n",
      "HHHHHHHHHHHHH\n",
      "   HHHHHHH                     HHHHHHH                  \n",
      "   HHHHHHH                     HHHHHHH                  \n",
      "   HHHHHHH                     HHHHHHH                  \n",
      "   HHHHHHH                     HHHHHHH                  \n",
      "   HHHHHHH                     HHHHHHH                  \n",
      "   HHHHHHH                     HHHHHHH                  \n",
      "   HHHHHHH                     HHHHHHH                  \n",
      "   HHHHHHH                     HHHHHHH                  \n",
      "   HHHHHHHHHHHHHHHHHHHHHHHHHHHHHHHHHHH    \n",
      "   HHHHHHHHHHHHHHHHHHHHHHHHHHHHHHHHHHH    \n",
      "   HHHHHHHHHHHHHHHHHHHHHHHHHHHHHHHHHHH    \n",
      "   HHHHHHHHHHHHHHHHHHHHHHHHHHHHHHHHHHH    \n",
      "   HHHHHHH                     HHHHHHH                  \n",
      "   HHHHHHH                     HHHHHHH                  \n",
      "   HHHHHHH                     HHHHHHH                  \n",
      "   HHHHHHH                     HHHHHHH                  \n",
      "   HHHHHHH                     HHHHHHH                  \n",
      "   HHHHHHH                     HHHHHHH                  \n",
      "   HHHHHHH                     HHHHHHH                  \n",
      "   HHHHHHH                     HHHHHHH                  \n",
      "                            HHHHHHHHHHHHH \n",
      "                             HHHHHHHHHHH  \n",
      "                              HHHHHHHHH   \n",
      "                               HHHHHHH    \n",
      "                                HHHHH     \n",
      "                                 HHH      \n",
      "                                  H       \n"
     ]
    }
   ],
   "source": [
    "# Question-8 Text Alignment\n",
    "\n",
    "thickness = int(input()) #This must be an odd number\n",
    "c = 'H'\n",
    "\n",
    "#Top Cone\n",
    "for i in range(thickness):\n",
    "    print((c*i).rjust(thickness-1)+c+(c*i).ljust(thickness-1))\n",
    "\n",
    "#Top Pillars\n",
    "for i in range(thickness+1):\n",
    "    print((c*thickness).center(thickness*2)+(c*thickness).center(thickness*6))\n",
    "\n",
    "#Middle Belt\n",
    "for i in range((thickness+1)//2):\n",
    "    print((c*thickness*5).center(thickness*6))    \n",
    "\n",
    "#Bottom Pillars\n",
    "for i in range(thickness+1):\n",
    "    print((c*thickness).center(thickness*2)+(c*thickness).center(thickness*6))    \n",
    "\n",
    "#Bottom Cone\n",
    "for i in range(thickness):\n",
    "    print(((c*(thickness-i-1)).rjust(thickness)+c+(c*(thickness-i-1)).ljust(thickness)).rjust(thickness*6))"
   ]
  },
  {
   "cell_type": "code",
   "execution_count": 11,
   "id": "ahead-society",
   "metadata": {},
   "outputs": [
    {
     "name": "stdout",
     "output_type": "stream",
     "text": [
      "ABCD\n",
      "EFGH\n",
      "IJKL\n",
      "IMNO\n",
      "QRST\n",
      "UVWX\n",
      "YZ\n"
     ]
    }
   ],
   "source": [
    "#Question-9 \n",
    "\n",
    "import textwrap\n",
    "\n",
    "letters = 'ABCDEFGHIJKLIMNOQRSTUVWXYZ'\n",
    "\n",
    "print(textwrap.fill(letters,4))"
   ]
  },
  {
   "cell_type": "code",
   "execution_count": 12,
   "id": "civic-running",
   "metadata": {},
   "outputs": [
    {
     "name": "stdout",
     "output_type": "stream",
     "text": [
      "17\n",
      "1 1 1 1\n",
      "2 2 2 10\n",
      "3 3 3 11\n",
      "4 4 4 100\n",
      "5 5 5 101\n",
      "6 6 6 110\n",
      "7 7 7 111\n",
      "8 8 10 1000\n",
      "9 9 11 1001\n",
      "10 A 12 1010\n",
      "11 B 13 1011\n",
      "12 C 14 1100\n",
      "13 D 15 1101\n",
      "14 E 16 1110\n",
      "15 F 17 1111\n",
      "16 10 20 10000\n",
      "17 11 21 10001\n"
     ]
    }
   ],
   "source": [
    "#Question-10\n",
    "\n",
    "#The four values must be printed on a single line in the order specified above for each i from 1 to number.\n",
    "#Each value should be space-padded to match the width of the binary value of number and the values should be separated by a single space.\n",
    "\n",
    "integer = int(input())\n",
    "\n",
    "for i in range(1, integer+1):\n",
    "    dec = str(i)\n",
    "    hexa = hex(i)[2:].upper()\n",
    "    octal = oct(i)[2:]\n",
    "    binary = bin(i)[2:]\n",
    "    print(dec, hexa, octal, binary)"
   ]
  },
  {
   "cell_type": "code",
   "execution_count": 15,
   "id": "apart-input",
   "metadata": {},
   "outputs": [
    {
     "name": "stdout",
     "output_type": "stream",
     "text": [
      "AABCAAADA\n",
      "3\n",
      "AB\n",
      "CA\n",
      "AD\n"
     ]
    }
   ],
   "source": [
    "#Question-11 \n",
    "\n",
    "#Split S into N/K equal parts of length if K=3.Remove any subsequent occurrences of non-distinct characters in given input\n",
    "\n",
    "S, N = input(), int(input()) \n",
    "for part in zip(*[iter(S)] * N):\n",
    "    d = dict()\n",
    "    print(''.join([ d.setdefault(c, c) for c in part if c not in d ]))"
   ]
  },
  {
   "cell_type": "code",
   "execution_count": 16,
   "id": "synthetic-japanese",
   "metadata": {},
   "outputs": [
    {
     "name": "stdout",
     "output_type": "stream",
     "text": [
      "Stuart 12\n"
     ]
    }
   ],
   "source": [
    "# Question-12  The MININON Game\n",
    "\n",
    "#Game Rules\n",
    "\n",
    "#Both players are given the same string,S.\n",
    "#Both players have to make substrings using the letters of the string,S.\n",
    "#Stuart has to make words starting with consonants.\n",
    "#Kevin has to make words starting with vowels.\n",
    "#The game ends when both players have made all possible substrings.\n",
    "\n",
    "#Scoring\n",
    "#A player gets +1 point for each occurrence of the substring in the string, S.\n",
    "\n",
    "strng = 'BANANA'\n",
    "p1 = 0;\n",
    "p2 = 0;\n",
    "\n",
    "for i in range(len(strng)):\n",
    "    if strng[i] in \"AEIOU\":\n",
    "        p1 += (len(strng))-i\n",
    "    else :\n",
    "        p2 += (len(strng))-i\n",
    "        \n",
    "if p1 > p2:\n",
    "    print(\"Kevin\", p1)\n",
    "elif p1 < p2:\n",
    "    print(\"Stuart\",p2)\n",
    "elif p1 == p2:\n",
    "    print(\"Draw\")\n",
    "else :\n",
    "    print(\"Draw\")"
   ]
  },
  {
   "cell_type": "code",
   "execution_count": null,
   "id": "every-limit",
   "metadata": {},
   "outputs": [],
   "source": []
  },
  {
   "cell_type": "code",
   "execution_count": null,
   "id": "latter-change",
   "metadata": {},
   "outputs": [],
   "source": []
  },
  {
   "cell_type": "code",
   "execution_count": null,
   "id": "atomic-scope",
   "metadata": {},
   "outputs": [],
   "source": []
  }
 ],
 "metadata": {
  "kernelspec": {
   "display_name": "Python 3",
   "language": "python",
   "name": "python3"
  },
  "language_info": {
   "codemirror_mode": {
    "name": "ipython",
    "version": 3
   },
   "file_extension": ".py",
   "mimetype": "text/x-python",
   "name": "python",
   "nbconvert_exporter": "python",
   "pygments_lexer": "ipython3",
   "version": "3.8.5"
  }
 },
 "nbformat": 4,
 "nbformat_minor": 5
}
