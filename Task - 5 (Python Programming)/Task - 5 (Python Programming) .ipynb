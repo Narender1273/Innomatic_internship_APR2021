{
 "cells": [
  {
   "cell_type": "code",
   "execution_count": 19,
   "id": "otherwise-falls",
   "metadata": {},
   "outputs": [
    {
     "name": "stdout",
     "output_type": "stream",
     "text": [
      "+12.0o00\n",
      "None\n"
     ]
    }
   ],
   "source": [
    "# Question-1 Detect Floating Point Number\n",
    "\n",
    "#You are given a string N.\n",
    "#Your task is to verify that N is a floating point number.\n",
    "\n",
    "import re\n",
    "\n",
    "n = input()\n",
    "print(re.match(r\"^[+-]?[\\d+]*\\.[\\d+]+$\",n))\n"
   ]
  },
  {
   "cell_type": "code",
   "execution_count": 28,
   "id": "reasonable-maintenance",
   "metadata": {},
   "outputs": [
    {
     "name": "stdout",
     "output_type": "stream",
     "text": [
      "['100', '000', '000', '000']\n"
     ]
    }
   ],
   "source": [
    "# Question-2\n",
    "\n",
    "#Your task is to complete the regex_pattern defined below, which will be used to re.split() all of the , and . symbols in M.\n",
    "\n",
    "#It’s guaranteed that every comma and every dot in M is preceeded and followed by a digit.\n",
    "\n",
    "m = '100,000,000.000'\n",
    "\n",
    "print(re.split(r'[,.]',m))"
   ]
  },
  {
   "cell_type": "code",
   "execution_count": 64,
   "id": "southwest-portland",
   "metadata": {},
   "outputs": [
    {
     "name": "stdout",
     "output_type": "stream",
     "text": [
      "dcsc2344\n",
      "4\n"
     ]
    }
   ],
   "source": [
    "# Question-3\n",
    "\n",
    "s = re.search(r'([A-Za-z0-9])\\1+', input())\n",
    "print(s.group(1) if s else -1)"
   ]
  },
  {
   "cell_type": "code",
   "execution_count": 71,
   "id": "juvenile-video",
   "metadata": {},
   "outputs": [
    {
     "name": "stdout",
     "output_type": "stream",
     "text": [
      "[]\n"
     ]
    }
   ],
   "source": [
    "# Question-4\n",
    "\n",
    "s = 'rabcdeefgyYhFjkIoomnpOeorteeeeet'\n",
    "\n",
    "print(re.findall(r'\\W+(aeiou|AEIOU)',s))"
   ]
  },
  {
   "cell_type": "code",
   "execution_count": 36,
   "id": "lasting-phrase",
   "metadata": {},
   "outputs": [
    {
     "name": "stdout",
     "output_type": "stream",
     "text": [
      "python and jupyter,msvsc or pycharm\n"
     ]
    }
   ],
   "source": [
    "# Question-6 replace && with and, replace || with or\n",
    "\n",
    "import re\n",
    "x = \"python && jupyter,msvsc || pycharm\"\n",
    "\n",
    "print(re.sub(r'(\\|\\|)','or', re.sub(r'(&&)','and',x)))"
   ]
  },
  {
   "cell_type": "code",
   "execution_count": 40,
   "id": "celtic-jones",
   "metadata": {},
   "outputs": [
    {
     "name": "stdout",
     "output_type": "stream",
     "text": [
      "MIV\n",
      "True\n"
     ]
    }
   ],
   "source": [
    "# Question-7 ROMAN NUMBERS\n",
    "\n",
    "thousand = \"(?:(M){0,3})?\"\n",
    "hundred  = \"(?:(D?(C){0,3})|(CM)|(CD))?\"\n",
    "ten      = \"(?:(L?(X){0,3})|(XC)|(XL))?\"\n",
    "unit     = \"(?:(V?(I){0,3})|(IX)|(IV))?\"\n",
    "rgx_pattern = r\"^\" + thousand + hundred + ten + unit + \"$\"\n",
    "\n",
    "import re\n",
    "print(str(bool(re.match(regex_pattern, input()))))"
   ]
  },
  {
   "cell_type": "code",
   "execution_count": 57,
   "id": "instant-jewel",
   "metadata": {},
   "outputs": [
    {
     "name": "stdout",
     "output_type": "stream",
     "text": [
      "8977875658\n",
      "<re.Match object; span=(0, 10), match='8977875658'>\n"
     ]
    }
   ],
   "source": [
    "# Question-8 match phone numbder\n",
    "\n",
    "phn_number = str(input())\n",
    "\n",
    "print(re.match(r\"[789]\\d{9}$\",phn_number) )"
   ]
  },
  {
   "cell_type": "code",
   "execution_count": 33,
   "id": "incredible-surfing",
   "metadata": {},
   "outputs": [
    {
     "name": "stdout",
     "output_type": "stream",
     "text": [
      "adchbacjha@ajch.com\n",
      "<re.Match object; span=(0, 19), match='adchbacjha@ajch.com'>\n"
     ]
    }
   ],
   "source": [
    "# Question- 9 match email address\n",
    "\n",
    "mail = input()\n",
    "print(re.match(r\"[a-zA-Z0-9_.+-]+@[a-zA-Z0-9-]+\\.[a-zA-Z0-9-.]+\",mail))"
   ]
  },
  {
   "cell_type": "code",
   "execution_count": 46,
   "id": "competent-disability",
   "metadata": {},
   "outputs": [
    {
     "name": "stdout",
     "output_type": "stream",
     "text": [
      "#VVV78\n",
      "None\n"
     ]
    }
   ],
   "source": [
    "# Question-10   color match\n",
    "\n",
    "color_codes = input()\n",
    "\n",
    "print(re.match(r\"^#[a-fA-F0-9]{0,6}$\",color_codes))"
   ]
  },
  {
   "cell_type": "code",
   "execution_count": 58,
   "id": "separate-queensland",
   "metadata": {},
   "outputs": [
    {
     "name": "stdout",
     "output_type": "stream",
     "text": [
      "start_tag: html\n",
      "start_tag: head\n",
      "start_tag: title\n",
      "end_tag: title\n",
      "end_tag: head\n",
      "start_tag: body\n",
      "start_tag: h1\n",
      "end_tag: h1\n",
      "empty: br\n",
      "end_tag: body\n",
      "end_tag: html\n"
     ]
    }
   ],
   "source": [
    "# QQuestion- 11\n",
    "\n",
    "#You are given an HTML code snippet of N lines.\n",
    "#Your task is to print start tags, end tags and empty tags separately. \n",
    "\n",
    "\n",
    "from html.parser import HTMLParser\n",
    "\n",
    "class myparser(HTMLParser):\n",
    "    def handle_starttag(self, tag, attrs):\n",
    "        print(\"start_tag:\",tag)\n",
    "   \n",
    "    def handle_endtag(self,tag):\n",
    "        print(\"end_tag:\",tag)\n",
    "    \n",
    "    def handle_startendtag(slef, tag, attrs):\n",
    "        print(\"empty:\", tag)\n",
    "        \n",
    "parser = myparser()\n",
    "parser.feed('<html><head><title>Test</title></head>'\n",
    "             '<body><h1>Parse me!</h1><br /></body></html>')"
   ]
  },
  {
   "cell_type": "code",
   "execution_count": 70,
   "id": "billion-daisy",
   "metadata": {},
   "outputs": [
    {
     "name": "stdout",
     "output_type": "stream",
     "text": [
      "Comment  : [if IE 9]>IE9-specific content<![endif]\n",
      "Data     :  Welcome to HackerRank\n",
      "Comment  : [if IE 9]>IE9-specific content<![endif]\n"
     ]
    }
   ],
   "source": [
    "# Question-12\n",
    "\n",
    "#You are given an HTML code snippet of N lines.\n",
    "#Your task is to print the single-line comments, multi-line comments and the data.\n",
    "\n",
    "class MyHTMLParser(HTMLParser):\n",
    "    def handle_data(self, data):\n",
    "        print(\"Data     :\", data)\n",
    "        \n",
    "    def handle_comment(self, data):\n",
    "          print (\"Comment  :\", data)\n",
    "        \n",
    "parser = MyHTMLParser()\n",
    "parser.feed('<!--[if IE 9]>IE9-specific content<![endif]--><div> Welcome to HackerRank</div><!--[if IE 9]>IE9-specific content<![endif]-->')"
   ]
  },
  {
   "cell_type": "code",
   "execution_count": 14,
   "id": "preliminary-proposition",
   "metadata": {},
   "outputs": [
    {
     "name": "stdout",
     "output_type": "stream",
     "text": [
      "start_tag: html\n",
      "start_tag: head\n",
      "start_tag: title\n",
      "end_tag: title\n",
      "end_tag: head\n",
      "start_tag: body\n",
      "start_tag: h1\n",
      "end_tag: h1\n",
      "start_tag: br\n",
      "end_tag: br\n",
      "end_tag: body\n",
      "end_tag: html\n",
      "start_tag: div\n",
      "end_tag: div\n"
     ]
    }
   ],
   "source": [
    "# Question-13\n",
    "\n",
    "#You are given an HTML code snippet of N lines.\n",
    "#our task is to detect and print all the HTML tags, attributes and attribute values.\n",
    "\n",
    "from html.parser import HTMLParser\n",
    "\n",
    "class MyHTMLParser(HTMLParser):\n",
    "    def handle_starttag(self, tag, attrs):\n",
    "        print(\"start_tag:\",tag)\n",
    "        \n",
    "        [print('-> {} > {}'.format(*attr)) for attr in attrs]\n",
    "    \n",
    "    def handle_endtag(self,tag):\n",
    "        print(\"end_tag:\",tag)\n",
    "        \n",
    "        \n",
    "    \n",
    "parser = MyHTMLParser()\n",
    "\n",
    "parser.feed('<html><head><title>Test</title></head>'\n",
    "             '<body><h1>Parse me!</h1><br /></body></html><!--[if IE 9]>IE9-specific content<![endif]--><div> Welcome to HackerRank</div><!--[if IE 9]>IE9-specific content<![endif]-->')"
   ]
  },
  {
   "cell_type": "code",
   "execution_count": 26,
   "id": "decimal-tuning",
   "metadata": {},
   "outputs": [
    {
     "name": "stdout",
     "output_type": "stream",
     "text": [
      "ABNHF78778\n",
      "<re.Match object; span=(0, 10), match='ABNHF78778'>\n"
     ]
    }
   ],
   "source": [
    "# Question- 14 match UID number, match only 10 numbers from alphabets,numbers but noo meta characters\n",
    "\n",
    "import re\n",
    "\n",
    "s= input()\n",
    "print(re.match(r\"[A-Z0-9]{0,10}$\",s))"
   ]
  },
  {
   "cell_type": "code",
   "execution_count": 35,
   "id": "wound-juvenile",
   "metadata": {},
   "outputs": [
    {
     "name": "stdout",
     "output_type": "stream",
     "text": [
      "please enter card number:2467-2422-2442\n",
      "<re.Match object; span=(0, 14), match='2467-2422-2442'>\n"
     ]
    }
   ],
   "source": [
    "# Question- 15 match credit card number\n",
    "\n",
    "import re\n",
    "\n",
    "f = input(\"please enter card number:\")\n",
    "\n",
    "print(re.match(r\"[0-9]{4}-[0-9]{4}-[0-9]{4}\", f))"
   ]
  },
  {
   "cell_type": "code",
   "execution_count": 46,
   "id": "electric-handling",
   "metadata": {},
   "outputs": [
    {
     "name": "stdout",
     "output_type": "stream",
     "text": [
      "500075\n",
      "True\n"
     ]
    }
   ],
   "source": [
    "# Question-16 matcth postal codes\n",
    "\n",
    "import re\n",
    "\n",
    "print(bool(re.match(r'^'+ r'(?!.*(.).\\1.*(.).\\2)'+ r'(?!.*(.)(.)\\3\\4)' +r'[1-9]\\d{5}' +r'$', input())))"
   ]
  },
  {
   "cell_type": "code",
   "execution_count": null,
   "id": "sound-piano",
   "metadata": {},
   "outputs": [],
   "source": []
  },
  {
   "cell_type": "code",
   "execution_count": null,
   "id": "innovative-piano",
   "metadata": {},
   "outputs": [],
   "source": []
  },
  {
   "cell_type": "code",
   "execution_count": null,
   "id": "dimensional-pittsburgh",
   "metadata": {},
   "outputs": [],
   "source": []
  },
  {
   "cell_type": "code",
   "execution_count": null,
   "id": "maritime-triumph",
   "metadata": {},
   "outputs": [],
   "source": []
  },
  {
   "cell_type": "code",
   "execution_count": null,
   "id": "atlantic-picture",
   "metadata": {},
   "outputs": [],
   "source": []
  }
 ],
 "metadata": {
  "kernelspec": {
   "display_name": "Python 3",
   "language": "python",
   "name": "python3"
  },
  "language_info": {
   "codemirror_mode": {
    "name": "ipython",
    "version": 3
   },
   "file_extension": ".py",
   "mimetype": "text/x-python",
   "name": "python",
   "nbconvert_exporter": "python",
   "pygments_lexer": "ipython3",
   "version": "3.8.5"
  }
 },
 "nbformat": 4,
 "nbformat_minor": 5
}
