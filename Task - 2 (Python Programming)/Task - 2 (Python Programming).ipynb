{
 "cells": [
  {
   "cell_type": "code",
   "execution_count": 12,
   "id": "cleared-essex",
   "metadata": {},
   "outputs": [
    {
     "name": "stdout",
     "output_type": "stream",
     "text": [
      "1\n",
      "1\n",
      "1\n",
      "3\n",
      "[[0, 0, 0], [0, 0, 1], [0, 1, 0], [0, 1, 1], [1, 0, 0], [1, 0, 1], [1, 1, 0]]\n"
     ]
    }
   ],
   "source": [
    "# Question1- List Comprehensions\n",
    "\n",
    "#Let's learn about list comprehensions! You are given three integers x,y and z representing the dimensions of a cuboid along with an integer n. \n",
    "#Print a list of all possible coordinates given by (i,j,k) on a 3D grid where the sum of (i+j+k) is not equal to n.\n",
    "\n",
    "x= int(input())\n",
    "y= int(input())\n",
    "z= int(input())\n",
    "n= int(input())\n",
    "\n",
    "print([[i,j,k] for i in range(0,x+1) for j in range(0,y+1) for k in range(0,z+1)if i+j+k != n ])"
   ]
  },
  {
   "cell_type": "code",
   "execution_count": 39,
   "id": "numeric-professor",
   "metadata": {},
   "outputs": [
    {
     "data": {
      "text/plain": [
       "8"
      ]
     },
     "execution_count": 39,
     "metadata": {},
     "output_type": "execute_result"
    }
   ],
   "source": [
    "# Question-2\n",
    "\n",
    "# you are required to find the runner-up score. You are given n scores. Store them in a list and find the score of the runner-up. \n",
    "\n",
    "n= [3,8,5,6,7,7,9]\n",
    "(list(set(n)))[-2]"
   ]
  },
  {
   "cell_type": "code",
   "execution_count": 22,
   "id": "theoretical-track",
   "metadata": {},
   "outputs": [
    {
     "name": "stdout",
     "output_type": "stream",
     "text": [
      "Berry\n",
      "Harry\n"
     ]
    }
   ],
   "source": [
    "#Question-3 \n",
    "\n",
    "# Print the name(s) of any student(s) having the second lowest grade in. \n",
    "#If there are multiple students, order their names alphabetically and print each one on a new line.\n",
    "\n",
    "students = [['Harry', 37.21], ['Berry', 37.21], ['Tina', 37.2], ['Akriti', 41], ['Harsh', 39]]\n",
    "sorted_lst = sorted(list(set([x[1] for x in students])))\n",
    "second_lowest = sorted_lst[1]\n",
    "\n",
    "lst = []\n",
    "for student in students:\n",
    "    if second_lowest == student[1]:\n",
    "        lst.append(student[0])\n",
    "\n",
    "for student in sorted(lst):\n",
    "    print(student)"
   ]
  },
  {
   "cell_type": "code",
   "execution_count": 16,
   "id": "formal-flesh",
   "metadata": {},
   "outputs": [
    {
     "name": "stdout",
     "output_type": "stream",
     "text": [
      "dict_values([[78, 67, 91], [74, 81, 93], [85, 79, 93]])\n",
      "sheik\n",
      "82.66666666666667\n"
     ]
    },
    {
     "data": {
      "text/plain": [
       "82.67"
      ]
     },
     "execution_count": 16,
     "metadata": {},
     "output_type": "execute_result"
    }
   ],
   "source": [
    "#Question-4\n",
    "\n",
    "#The provided code stub will read in a dictionary containing key/value pairs of name:[marks] for a list of students.\n",
    "#Print the average of the marks array for the student name provided, showing 2 places after the decimal.\n",
    "\n",
    "dict1 = {'ram':[78,67,91],'sheik':[74,81,93],'druv':[85,79,93]}\n",
    "print(dict1.values())\n",
    "\n",
    "inpt = str(input())\n",
    "avg= sum(dict1[inpt])/len(dict1[inpt])\n",
    "print(avg)\n",
    "round(avg,2)"
   ]
  },
  {
   "cell_type": "code",
   "execution_count": null,
   "id": "golden-chester",
   "metadata": {},
   "outputs": [],
   "source": []
  },
  {
   "cell_type": "markdown",
   "id": "velvet-monitor",
   "metadata": {},
   "source": [
    "### Question 5\n",
    "Consider a list (list = [ ]). You can perform the following commands:\n",
    "\n",
    "1.insert i e: Insert integer *e* at position.\\\n",
    "2.print: Print the list.\\\n",
    "3.remove e: Delete the first occurrence of integer.\\\n",
    "4.append e: Insert integer *e* at the end of the list.\\\n",
    "5.sort: Sort the list.\\\n",
    "6.pop: Pop the last element from the list.\\\n",
    "7.reverse: Reverse the list.\n",
    "\n",
    "Initialize your list and read in the value of *n* followed by *n* lines of commands where each command will be of the *7* types listed above. Iterate through each command in order and perform the corresponding operation on your list. "
   ]
  },
  {
   "cell_type": "code",
   "execution_count": 40,
   "id": "independent-married",
   "metadata": {},
   "outputs": [
    {
     "name": "stdout",
     "output_type": "stream",
     "text": [
      "append_list: [3, 6, 1, 4]\n",
      "insert_list: [3, 6, 5, 1, 4]\n",
      "remove_list: [6, 5, 1, 4]\n",
      "sorted_list: [1, 4, 5, 6]\n",
      "pop_list: [1, 4, 5]\n",
      "reversed_list: [5, 4, 1]\n"
     ]
    }
   ],
   "source": [
    "#Question-5\n",
    "\n",
    "lst = [3,6,1]\n",
    "\n",
    "lst.append(4)\n",
    "print('append_list:',lst)\n",
    "lst.insert(2,5)\n",
    "print(\"insert_list:\",lst)\n",
    "lst.remove(3)\n",
    "print(\"remove_list:\",lst)\n",
    "lst.sort()\n",
    "print(\"sorted_list:\",lst)\n",
    "lst.pop()\n",
    "print(\"pop_list:\",lst)\n",
    "lst.reverse()\n",
    "print(\"reversed_list:\",lst)"
   ]
  },
  {
   "cell_type": "code",
   "execution_count": 70,
   "id": "final-portuguese",
   "metadata": {},
   "outputs": [
    {
     "name": "stdout",
     "output_type": "stream",
     "text": [
      "1\n",
      "1 2 3\n",
      "529344067295497451\n"
     ]
    }
   ],
   "source": [
    "# Question-6\n",
    "\n",
    "# Given an integer,n, and n space-separated integers as input, create a tuple,t, of those n integers. Then compute and print the result of hash(t).\n",
    "\n",
    "print(input()==0 or hash(tuple(map(int, input().split()))))"
   ]
  },
  {
   "cell_type": "code",
   "execution_count": 78,
   "id": "convenient-possession",
   "metadata": {},
   "outputs": [
    {
     "name": "stdout",
     "output_type": "stream",
     "text": [
      "10.416666666666666\n"
     ]
    },
    {
     "data": {
      "text/plain": [
       "10.417"
      ]
     },
     "execution_count": 78,
     "metadata": {},
     "output_type": "execute_result"
    }
   ],
   "source": [
    "# Question-7 (SET)\n",
    "\n",
    "#Ms. Gabriel Williams is a botany professor at District College. One day, she asked her student Mickey to compute the average of all the plants with distinct heights in her greenhouse.\n",
    "\n",
    "N = [4,2,6,7,9,3,6,1,12,18,29,34]\n",
    "avg=sum(set(N))/len(N)\n",
    "print(avg)\n",
    "round(avg,3)"
   ]
  },
  {
   "cell_type": "code",
   "execution_count": 8,
   "id": "pregnant-conviction",
   "metadata": {},
   "outputs": [
    {
     "name": "stdout",
     "output_type": "stream",
     "text": [
      "['UK', 'China', 'USA', 'France', 'New Zealand', 'UK', 'France']\n",
      "{'USA', 'New Zealand', 'China', 'France', 'UK'}\n"
     ]
    },
    {
     "data": {
      "text/plain": [
       "5"
      ]
     },
     "execution_count": 8,
     "metadata": {},
     "output_type": "execute_result"
    }
   ],
   "source": [
    "#Question-8\n",
    "\n",
    "#Apply your knowledge of the .add() operation to help your friend Rupal.\n",
    "\n",
    "#Rupal has a huge collection of country stamps. She decided to count the total number of distinct country stamps in her collection.\n",
    "#She asked for your help. You pick the stamps one by one from a stack of N country stamps.\n",
    "\n",
    "#Find the total number of distinct country stamps.\n",
    "N= ['UK','China','USA','France','New Zealand','UK','France']\n",
    "print(N)\n",
    "print(set(N))\n",
    "len(set(N))"
   ]
  },
  {
   "cell_type": "code",
   "execution_count": 22,
   "id": "dangerous-component",
   "metadata": {},
   "outputs": [
    {
     "name": "stdout",
     "output_type": "stream",
     "text": [
      "{1, 2, 3, 4, 5, 6, 8, 9}\n",
      "{2, 3, 4, 5, 6, 8, 9}\n",
      "{3, 4, 5, 6, 8, 9}\n"
     ]
    }
   ],
   "source": [
    "#Question-9\n",
    "\n",
    "#You have a non-empty set 8, and you have to execute N commands given in N lines.\n",
    "\n",
    "#The commands will be pop, remove and discard.\n",
    "\n",
    "s = set([1, 2, 8, 4, 5, 6, 7, 3, 9])\n",
    "\n",
    "s.discard(7)\n",
    "print(s)\n",
    "\n",
    "s.pop()\n",
    "print(s)\n",
    "\n",
    "s.remove(2)\n",
    "print(s)"
   ]
  },
  {
   "cell_type": "code",
   "execution_count": 19,
   "id": "monthly-animal",
   "metadata": {},
   "outputs": [
    {
     "name": "stdout",
     "output_type": "stream",
     "text": [
      "[9, 5]\n",
      "[11, 12]\n"
     ]
    }
   ],
   "source": [
    "# Question-10 -- Symmetric Difference\n",
    "\n",
    "#Given 2 sets of integers, M and N, print their symmetric difference in ascending order.\n",
    "#The term symmetric difference indicates those values that exist in either M or N but do not exist in both.\n",
    "\n",
    "a = {2, 4, 5, 9}\n",
    "b = {2, 4, 11, 12}\n",
    "\n",
    "e = a-b\n",
    "print(list(e))\n",
    "f= b-a\n",
    "print(list(f))"
   ]
  },
  {
   "cell_type": "code",
   "execution_count": 28,
   "id": "hundred-housing",
   "metadata": {},
   "outputs": [
    {
     "name": "stdout",
     "output_type": "stream",
     "text": [
      "the number of students subscribed to atleast one news papere are: 13\n"
     ]
    }
   ],
   "source": [
    "#Question-11 --Union\n",
    "\n",
    "#Task -- The students of District College have subscriptions to English and French newspapers. Some students have subscribed only to English, some have subscribed to only French and some have subscribed to both newspapers.\n",
    "\n",
    "#You are given two sets of student roll numbers. One set has subscribed to the English newspaper, \n",
    "#and the other set is subscribed to the French newspaper. The same student could be in both sets. \n",
    "#Your task is to find the total number of students who have subscribed to at least one newspaper.\n",
    "\n",
    "s = [1 ,2, 3, 4, 5, 6, 7, 8, 9]\n",
    "\n",
    "h= [10, 1, 2, 3, 11, 21, 55, 6, 8]\n",
    "\n",
    "print(\"the number of students subscribed to atleast one news papere are:\",len(set(s).union(set(h))))"
   ]
  },
  {
   "cell_type": "code",
   "execution_count": 30,
   "id": "infinite-reliance",
   "metadata": {},
   "outputs": [
    {
     "name": "stdout",
     "output_type": "stream",
     "text": [
      "the number of students subscribed to atleast one news papere are: 5\n"
     ]
    }
   ],
   "source": [
    "#Question-12 -- Intersection\n",
    "\n",
    "#The students of District College have subscriptions to English and French newspapers. Some students have subscribed only to English, \n",
    "#some have subscribed only to French, and some have subscribed to both newspapers.\n",
    "#You are given two sets of student roll numbers. One set has subscribed to the English newspaper, one set has subscribed to the French newspaper.\n",
    "#Your task is to find the total number of students who have subscribed to both newspapers.\n",
    "\n",
    "s = [1 ,2, 3, 4, 5, 6, 7, 8, 9]\n",
    "\n",
    "h= [10, 1, 2, 3, 11, 21, 55, 6, 8]\n",
    "\n",
    "print(\"the number of students subscribed to atleast one news papere are:\",len(set(s).intersection(set(h))))"
   ]
  },
  {
   "cell_type": "code",
   "execution_count": 31,
   "id": "executed-australian",
   "metadata": {},
   "outputs": [
    {
     "name": "stdout",
     "output_type": "stream",
     "text": [
      "the number of students subscribed to atleast one news papere are: 4\n"
     ]
    }
   ],
   "source": [
    "# Question-13 \n",
    "\n",
    "#Students of District College have a subscription to English and French newspapers. Some students have subscribed to only the English newspaper, some have subscribed to only the French newspaper, and some have subscribed to both newspapers.\n",
    "\n",
    "#You are given two sets of student roll numbers. One set has subscribed to the English newspaper, and one set has subscribed to the French newspaper. Your task is to find the total number of students who have subscribed to only English newspapers.\n",
    "\n",
    "s = [1 ,2, 3, 4, 5, 6, 7, 8, 9]\n",
    "\n",
    "h= [10, 1, 2, 3, 11, 21, 55, 6, 8]\n",
    "\n",
    "print(\"the number of students subscribed to atleast one news papere are:\",len(set(s).difference(set(h))))"
   ]
  },
  {
   "cell_type": "code",
   "execution_count": 33,
   "id": "revised-maker",
   "metadata": {},
   "outputs": [
    {
     "name": "stdout",
     "output_type": "stream",
     "text": [
      "the number of students subscribed to atleast one news papere are: 8\n"
     ]
    }
   ],
   "source": [
    "# Question-14 -- symmetric_difference\n",
    "\n",
    "#Students of District College have subscriptions to English and French newspapers. Some students have subscribed to English only, some have subscribed to French only, and some have subscribed to both newspapers.\n",
    "#You are given two sets of student roll numbers. One set has subscribed to the English newspaper, and one set has subscribed to the French newspaper.\n",
    "#Your task is to find the total number of students who have subscribed to either the English or the French newspaper but not both.\n",
    "\n",
    "s = [1 ,2, 3, 4, 5, 6, 7, 8, 9]\n",
    "\n",
    "h= [10, 1, 2, 3, 11, 21, 55, 6, 8]\n",
    "\n",
    "print(\"the number of students subscribed to atleast one news papere are:\",len(set(s).symmetric_difference(set(h))))"
   ]
  },
  {
   "cell_type": "code",
   "execution_count": 40,
   "id": "positive-plenty",
   "metadata": {},
   "outputs": [],
   "source": [
    "\n",
    "\n",
    "s= {1, 2, 3, 4, 5, 6, 7, 8, 9, 10, 11, 12, 13, 14, 24, 52}"
   ]
  },
  {
   "cell_type": "code",
   "execution_count": 11,
   "id": "alien-toddler",
   "metadata": {},
   "outputs": [
    {
     "name": "stdout",
     "output_type": "stream",
     "text": [
      "intersection_update_k = {4, 5}\n",
      "difference_update_j = {6}\n",
      "symmetric_difference_update_i = {1, 2, 3}\n"
     ]
    }
   ],
   "source": [
    "#Question-15 -- Set Mutations\n",
    "\n",
    "i = {1, 2, 3, 4,5}\n",
    "j = {2, 3, 4, 5, 6}\n",
    "k = {4, 5, 6, 9, 10}\n",
    "\n",
    "result1 = k.intersection_update(j, i)\n",
    "print('intersection_update_k =', k)\n",
    "\n",
    "result2 = j.difference_update(k, i)\n",
    "print('difference_update_j =', j)\n",
    "\n",
    "result3 = i.symmetric_difference_update(k)\n",
    "print('symmetric_difference_update_i =', i)"
   ]
  },
  {
   "cell_type": "code",
   "execution_count": 8,
   "id": "consistent-painting",
   "metadata": {
    "scrolled": true
   },
   "outputs": [
    {
     "name": "stdout",
     "output_type": "stream",
     "text": [
      "8\n",
      "its captain room\n"
     ]
    }
   ],
   "source": [
    "#Question-16 -- Captains room number\n",
    "\n",
    "c = [1, 2, 3, 6, 5, 4, 4, 2, 5, 3, 6, 1, 6, 5, 3, 2, 4, 1, 2, 5, 1, 4, 3, 6, 8, 4, 3, 1, 5, 6, 2]\n",
    "\n",
    "f = int(input())\n",
    "cnt = c.count(f)\n",
    "if cnt ==1:\n",
    "    print('its captain room')\n",
    "else:\n",
    "    print('try another number from list')"
   ]
  },
  {
   "cell_type": "code",
   "execution_count": 15,
   "id": "downtown-lighting",
   "metadata": {
    "scrolled": true
   },
   "outputs": [
    {
     "data": {
      "text/plain": [
       "True"
      ]
     },
     "execution_count": 15,
     "metadata": {},
     "output_type": "execute_result"
    }
   ],
   "source": [
    "#Question--17\n",
    "\n",
    "#You are given two sets, A and B.Your job is to find whether set A is a subset of set B.\n",
    "\n",
    "#If set is subset of set , print True.\n",
    "#If set is not a subset of set , print False.\n",
    "\n",
    "a = [1,3,4,5,7]\n",
    "b = [12,1,43,4,3,6,23,7,5]\n",
    "\n",
    "len(set(a).intersection(set(b))) == len(a)"
   ]
  },
  {
   "cell_type": "code",
   "execution_count": 26,
   "id": "toxic-tuning",
   "metadata": {},
   "outputs": [
    {
     "data": {
      "text/plain": [
       "True"
      ]
     },
     "execution_count": 26,
     "metadata": {},
     "output_type": "execute_result"
    }
   ],
   "source": [
    "#Question-18\n",
    "\n",
    "#You are given a set A and N other sets.\n",
    "#Your job is to find whether set is a strict superset of each of the N sets.\n",
    "#Print True, if A is a strict superset of each of the N sets. Otherwise, print False.\n",
    "#A strict superset has at least one element that does not exist in its subset.\n",
    "\n",
    "i = {2, 3, 4,5}\n",
    "j = {2, 3,4,7, 5, 6}\n",
    "k = {4, 5, 6, 9, 2,3}\n",
    "\n",
    "len(i.intersection(j,k))==len(i)"
   ]
  },
  {
   "cell_type": "code",
   "execution_count": null,
   "id": "israeli-mozambique",
   "metadata": {},
   "outputs": [],
   "source": []
  }
 ],
 "metadata": {
  "kernelspec": {
   "display_name": "Python 3",
   "language": "python",
   "name": "python3"
  },
  "language_info": {
   "codemirror_mode": {
    "name": "ipython",
    "version": 3
   },
   "file_extension": ".py",
   "mimetype": "text/x-python",
   "name": "python",
   "nbconvert_exporter": "python",
   "pygments_lexer": "ipython3",
   "version": "3.8.5"
  }
 },
 "nbformat": 4,
 "nbformat_minor": 5
}
