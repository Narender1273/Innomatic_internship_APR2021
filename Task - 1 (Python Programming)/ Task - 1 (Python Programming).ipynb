{
 "cells": [
  {
   "cell_type": "code",
   "execution_count": 1,
   "id": "analyzed-boston",
   "metadata": {},
   "outputs": [
    {
     "name": "stdout",
     "output_type": "stream",
     "text": [
      "Hello, World!\n"
     ]
    }
   ],
   "source": [
    "# Question1- Say \"Hello, World!\" With Python\n",
    "\n",
    "print('Hello, World!')"
   ]
  },
  {
   "cell_type": "code",
   "execution_count": 2,
   "id": "painted-bronze",
   "metadata": {},
   "outputs": [
    {
     "name": "stdout",
     "output_type": "stream",
     "text": [
      "84\n",
      "not weird\n"
     ]
    }
   ],
   "source": [
    "# Question2 - Python If-Else\n",
    "\n",
    "#Given an integer,n, perform the following conditional actions:\n",
    "\n",
    "#If n is odd, print Weird\n",
    "#If n is even and in the inclusive range of 2 to 5,print Not Weird\n",
    "#If n is even and in the inclusive range of 6 to 20, print Weird\n",
    "#If n is even and greater than 20, print Not Weird\n",
    "\n",
    "n = int(input())\n",
    "\n",
    "if n % 2 ==0:\n",
    "    if n in range(2,6):\n",
    "        print('Not weird')\n",
    "    elif n in range(6,21):\n",
    "        print('weird')\n",
    "    elif n > 20:\n",
    "        print('not weird')\n",
    "else:\n",
    "    print('weird')"
   ]
  },
  {
   "cell_type": "code",
   "execution_count": 3,
   "id": "portable-permission",
   "metadata": {},
   "outputs": [
    {
     "name": "stdout",
     "output_type": "stream",
     "text": [
      "5\n",
      "6\n",
      "addition 0f a&b: 11\n",
      "subtraction 0f a&b: -1\n",
      "multiplication of a&b: 30\n"
     ]
    }
   ],
   "source": [
    "# Question3 - Arithmetic Operators\n",
    "\n",
    "#The provided code stub reads two integers from STDIN, a and b.Add code to print three lines where:\n",
    "\n",
    "#1)The first line contains the sum of the two numbers.\n",
    "#2)The second line contains the difference of the two numbers (first - second).\n",
    "#3)The third line contains the product of the two numbers.\n",
    "\n",
    "a = int(input())\n",
    "b = int(input())\n",
    "\n",
    "print('addition 0f a&b:',a+b)\n",
    "print('subtraction 0f a&b:',a-b)\n",
    "print(\"multiplication of a&b:\",a*b)"
   ]
  },
  {
   "cell_type": "code",
   "execution_count": 4,
   "id": "excess-movie",
   "metadata": {},
   "outputs": [
    {
     "name": "stdout",
     "output_type": "stream",
     "text": [
      "7\n",
      "4\n",
      "integer division: 1\n",
      "float division: 1.75\n"
     ]
    }
   ],
   "source": [
    "#Question4 - Python: Division\n",
    "\n",
    "#The provided code stub reads two integers,a and b, from STDIN.\n",
    "\n",
    "#Add logic to print two lines. The first line should contain the result of integer division, a//b . The second line should contain the result of float division, a/b.\n",
    "#No rounding or formatting is necessary.\n",
    "\n",
    "a = int(input())\n",
    "b = int(input())\n",
    "\n",
    "print('integer division:', a//b)\n",
    "print('float division:', a/b)"
   ]
  },
  {
   "cell_type": "code",
   "execution_count": 9,
   "id": "impressive-image",
   "metadata": {},
   "outputs": [
    {
     "name": "stdout",
     "output_type": "stream",
     "text": [
      "input a number:4\n",
      "0\n",
      "1\n",
      "4\n",
      "9\n"
     ]
    }
   ],
   "source": [
    "# Question5 -Loops\n",
    "\n",
    "#The provided code stub reads and integer,n, from STDIN. For all non-negative integers i<n, print i**2. \n",
    "\n",
    "n = int(input(\"input a number:\"))\n",
    "\n",
    "for i in range(n):\n",
    "    print(i**2)"
   ]
  },
  {
   "cell_type": "code",
   "execution_count": 12,
   "id": "widespread-indonesia",
   "metadata": {},
   "outputs": [
    {
     "name": "stdout",
     "output_type": "stream",
     "text": [
      "input a year:2020\n"
     ]
    },
    {
     "data": {
      "text/plain": [
       "True"
      ]
     },
     "execution_count": 12,
     "metadata": {},
     "output_type": "execute_result"
    }
   ],
   "source": [
    "# Question-6 Write a function on Leap Year\n",
    "\n",
    "#Given a year, determine whether it is a leap year. If it is a leap year, return the Boolean True, otherwise return False.\n",
    "\n",
    "#Note that the code stub provided reads from STDIN and passes arguments to the is_leap function. It is only necessary to complete the is_leap function. \n",
    "\n",
    "def leapyear(year):\n",
    "    if year%4 == 0:\n",
    "        return True\n",
    "    else:\n",
    "        return False\n",
    "\n",
    "n =int(input(\"input a year:\"))\n",
    "\n",
    "leapyear(n)"
   ]
  },
  {
   "cell_type": "code",
   "execution_count": 11,
   "id": "mineral-payment",
   "metadata": {},
   "outputs": [
    {
     "name": "stdout",
     "output_type": "stream",
     "text": [
      "input a number:4\n",
      "1234"
     ]
    }
   ],
   "source": [
    "# Question7 - Print Function\n",
    "\n",
    "#The included code stub will read an integer,n,from STDIN.Without using any string methods, try to print the following: 1,2,3,....n\n",
    "\n",
    "n =int(input(\"input a number:\"))\n",
    "for i in range(1,n+1):\n",
    "    print(i,end=\"\")"
   ]
  },
  {
   "cell_type": "code",
   "execution_count": null,
   "id": "computational-composer",
   "metadata": {},
   "outputs": [],
   "source": []
  },
  {
   "cell_type": "code",
   "execution_count": null,
   "id": "express-strengthening",
   "metadata": {},
   "outputs": [],
   "source": []
  }
 ],
 "metadata": {
  "kernelspec": {
   "display_name": "Python 3",
   "language": "python",
   "name": "python3"
  },
  "language_info": {
   "codemirror_mode": {
    "name": "ipython",
    "version": 3
   },
   "file_extension": ".py",
   "mimetype": "text/x-python",
   "name": "python",
   "nbconvert_exporter": "python",
   "pygments_lexer": "ipython3",
   "version": "3.8.5"
  }
 },
 "nbformat": 4,
 "nbformat_minor": 5
}
